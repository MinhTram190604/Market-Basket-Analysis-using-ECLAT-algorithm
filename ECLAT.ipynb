{
  "cells": [
    {
      "cell_type": "markdown",
      "metadata": {
        "id": "zaJxCQVPEupY"
      },
      "source": [
        "# **Thư viện**"
      ]
    },
    {
      "cell_type": "code",
      "execution_count": 1,
      "metadata": {
        "colab": {
          "base_uri": "https://localhost:8080/"
        },
        "id": "_280b2M4Kknu",
        "outputId": "c5241e6f-bfce-499f-def5-4d5c53cd5c36"
      },
      "outputs": [
        {
          "name": "stdout",
          "output_type": "stream",
          "text": [
            "Defaulting to user installation because normal site-packages is not writeable\n",
            "Collecting pyECLAT\n",
            "  Downloading pyECLAT-1.0.2-py3-none-any.whl.metadata (4.0 kB)\n",
            "Requirement already satisfied: pandas>=0.25.3 in c:\\users\\pc\\appdata\\local\\packages\\pythonsoftwarefoundation.python.3.12_qbz5n2kfra8p0\\localcache\\local-packages\\python312\\site-packages (from pyECLAT) (2.2.2)\n",
            "Requirement already satisfied: numpy>=1.17.4 in c:\\users\\pc\\appdata\\local\\packages\\pythonsoftwarefoundation.python.3.12_qbz5n2kfra8p0\\localcache\\local-packages\\python312\\site-packages (from pyECLAT) (1.26.4)\n",
            "Collecting tqdm>=4.41.1 (from pyECLAT)\n",
            "  Downloading tqdm-4.67.1-py3-none-any.whl.metadata (57 kB)\n",
            "Requirement already satisfied: python-dateutil>=2.8.2 in c:\\users\\pc\\appdata\\local\\packages\\pythonsoftwarefoundation.python.3.12_qbz5n2kfra8p0\\localcache\\local-packages\\python312\\site-packages (from pandas>=0.25.3->pyECLAT) (2.9.0.post0)\n",
            "Requirement already satisfied: pytz>=2020.1 in c:\\users\\pc\\appdata\\local\\packages\\pythonsoftwarefoundation.python.3.12_qbz5n2kfra8p0\\localcache\\local-packages\\python312\\site-packages (from pandas>=0.25.3->pyECLAT) (2024.1)\n",
            "Requirement already satisfied: tzdata>=2022.7 in c:\\users\\pc\\appdata\\local\\packages\\pythonsoftwarefoundation.python.3.12_qbz5n2kfra8p0\\localcache\\local-packages\\python312\\site-packages (from pandas>=0.25.3->pyECLAT) (2024.1)\n",
            "Requirement already satisfied: colorama in c:\\users\\pc\\appdata\\local\\packages\\pythonsoftwarefoundation.python.3.12_qbz5n2kfra8p0\\localcache\\local-packages\\python312\\site-packages (from tqdm>=4.41.1->pyECLAT) (0.4.6)\n",
            "Requirement already satisfied: six>=1.5 in c:\\users\\pc\\appdata\\local\\packages\\pythonsoftwarefoundation.python.3.12_qbz5n2kfra8p0\\localcache\\local-packages\\python312\\site-packages (from python-dateutil>=2.8.2->pandas>=0.25.3->pyECLAT) (1.16.0)\n",
            "Downloading pyECLAT-1.0.2-py3-none-any.whl (6.3 kB)\n",
            "Downloading tqdm-4.67.1-py3-none-any.whl (78 kB)\n",
            "Installing collected packages: tqdm, pyECLAT\n",
            "Successfully installed pyECLAT-1.0.2 tqdm-4.67.1\n"
          ]
        },
        {
          "name": "stderr",
          "output_type": "stream",
          "text": [
            "\n",
            "[notice] A new release of pip is available: 24.3.1 -> 25.0.1\n",
            "[notice] To update, run: C:\\Users\\PC\\AppData\\Local\\Microsoft\\WindowsApps\\PythonSoftwareFoundation.Python.3.12_qbz5n2kfra8p0\\python.exe -m pip install --upgrade pip\n"
          ]
        }
      ],
      "source": [
        "!pip install pyECLAT"
      ]
    },
    {
      "cell_type": "code",
      "execution_count": 3,
      "metadata": {},
      "outputs": [
        {
          "name": "stdout",
          "output_type": "stream",
          "text": [
            "Defaulting to user installation because normal site-packages is not writeable\n",
            "Collecting wordcloud\n",
            "  Downloading wordcloud-1.9.4-cp312-cp312-win_amd64.whl.metadata (3.5 kB)\n",
            "Requirement already satisfied: numpy>=1.6.1 in c:\\users\\pc\\appdata\\local\\packages\\pythonsoftwarefoundation.python.3.12_qbz5n2kfra8p0\\localcache\\local-packages\\python312\\site-packages (from wordcloud) (1.26.4)\n",
            "Requirement already satisfied: pillow in c:\\users\\pc\\appdata\\local\\packages\\pythonsoftwarefoundation.python.3.12_qbz5n2kfra8p0\\localcache\\local-packages\\python312\\site-packages (from wordcloud) (10.3.0)\n",
            "Requirement already satisfied: matplotlib in c:\\users\\pc\\appdata\\local\\packages\\pythonsoftwarefoundation.python.3.12_qbz5n2kfra8p0\\localcache\\local-packages\\python312\\site-packages (from wordcloud) (3.9.0)\n",
            "Requirement already satisfied: contourpy>=1.0.1 in c:\\users\\pc\\appdata\\local\\packages\\pythonsoftwarefoundation.python.3.12_qbz5n2kfra8p0\\localcache\\local-packages\\python312\\site-packages (from matplotlib->wordcloud) (1.2.1)\n",
            "Requirement already satisfied: cycler>=0.10 in c:\\users\\pc\\appdata\\local\\packages\\pythonsoftwarefoundation.python.3.12_qbz5n2kfra8p0\\localcache\\local-packages\\python312\\site-packages (from matplotlib->wordcloud) (0.12.1)\n",
            "Requirement already satisfied: fonttools>=4.22.0 in c:\\users\\pc\\appdata\\local\\packages\\pythonsoftwarefoundation.python.3.12_qbz5n2kfra8p0\\localcache\\local-packages\\python312\\site-packages (from matplotlib->wordcloud) (4.53.0)\n",
            "Requirement already satisfied: kiwisolver>=1.3.1 in c:\\users\\pc\\appdata\\local\\packages\\pythonsoftwarefoundation.python.3.12_qbz5n2kfra8p0\\localcache\\local-packages\\python312\\site-packages (from matplotlib->wordcloud) (1.4.5)\n",
            "Requirement already satisfied: packaging>=20.0 in c:\\users\\pc\\appdata\\local\\packages\\pythonsoftwarefoundation.python.3.12_qbz5n2kfra8p0\\localcache\\local-packages\\python312\\site-packages (from matplotlib->wordcloud) (24.0)\n",
            "Requirement already satisfied: pyparsing>=2.3.1 in c:\\users\\pc\\appdata\\local\\packages\\pythonsoftwarefoundation.python.3.12_qbz5n2kfra8p0\\localcache\\local-packages\\python312\\site-packages (from matplotlib->wordcloud) (3.1.2)\n",
            "Requirement already satisfied: python-dateutil>=2.7 in c:\\users\\pc\\appdata\\local\\packages\\pythonsoftwarefoundation.python.3.12_qbz5n2kfra8p0\\localcache\\local-packages\\python312\\site-packages (from matplotlib->wordcloud) (2.9.0.post0)\n",
            "Requirement already satisfied: six>=1.5 in c:\\users\\pc\\appdata\\local\\packages\\pythonsoftwarefoundation.python.3.12_qbz5n2kfra8p0\\localcache\\local-packages\\python312\\site-packages (from python-dateutil>=2.7->matplotlib->wordcloud) (1.16.0)\n",
            "Downloading wordcloud-1.9.4-cp312-cp312-win_amd64.whl (301 kB)\n",
            "Installing collected packages: wordcloud\n",
            "Successfully installed wordcloud-1.9.4\n"
          ]
        },
        {
          "name": "stderr",
          "output_type": "stream",
          "text": [
            "\n",
            "[notice] A new release of pip is available: 24.3.1 -> 25.0.1\n",
            "[notice] To update, run: C:\\Users\\PC\\AppData\\Local\\Microsoft\\WindowsApps\\PythonSoftwareFoundation.Python.3.12_qbz5n2kfra8p0\\python.exe -m pip install --upgrade pip\n"
          ]
        }
      ],
      "source": [
        "!pip install wordcloud"
      ]
    },
    {
      "cell_type": "code",
      "execution_count": null,
      "metadata": {
        "id": "LsWBD9ChExVg"
      },
      "outputs": [],
      "source": [
        "import pandas as pd\n",
        "import numpy as np\n",
        "from collections import Counter\n",
        "from itertools import combinations\n",
        "import matplotlib.pyplot as plt\n",
        "from wordcloud import WordCloud\n",
        "from pyECLAT import ECLAT\n",
        "import warnings\n",
        "\n",
        "warnings.filterwarnings(\"ignore\")"
      ]
    },
    {
      "cell_type": "markdown",
      "metadata": {
        "id": "A25tixJnGCqJ"
      },
      "source": [
        "# **1. Preprocessing & EDA**"
      ]
    },
    {
      "cell_type": "markdown",
      "metadata": {
        "id": "Vn6PZjoNE1B7"
      },
      "source": [
        "## **1.1 Preprocessing**"
      ]
    },
    {
      "cell_type": "code",
      "execution_count": 34,
      "metadata": {
        "colab": {
          "base_uri": "https://localhost:8080/",
          "height": 206
        },
        "id": "rOzw3CkKE8ml",
        "outputId": "dd524b6d-5e04-43fd-a66a-77aa83c56d10"
      },
      "outputs": [
        {
          "data": {
            "text/html": [
              "<div>\n",
              "<style scoped>\n",
              "    .dataframe tbody tr th:only-of-type {\n",
              "        vertical-align: middle;\n",
              "    }\n",
              "\n",
              "    .dataframe tbody tr th {\n",
              "        vertical-align: top;\n",
              "    }\n",
              "\n",
              "    .dataframe thead th {\n",
              "        text-align: right;\n",
              "    }\n",
              "</style>\n",
              "<table border=\"1\" class=\"dataframe\">\n",
              "  <thead>\n",
              "    <tr style=\"text-align: right;\">\n",
              "      <th></th>\n",
              "      <th>Apple</th>\n",
              "      <th>Bread</th>\n",
              "      <th>Butter</th>\n",
              "      <th>Cheese</th>\n",
              "      <th>Corn</th>\n",
              "      <th>Dill</th>\n",
              "      <th>Eggs</th>\n",
              "      <th>Ice cream</th>\n",
              "      <th>Kidney Beans</th>\n",
              "      <th>Milk</th>\n",
              "      <th>Nutmeg</th>\n",
              "      <th>Onion</th>\n",
              "      <th>Sugar</th>\n",
              "      <th>Unicorn</th>\n",
              "      <th>Yogurt</th>\n",
              "      <th>Chocolate</th>\n",
              "    </tr>\n",
              "  </thead>\n",
              "  <tbody>\n",
              "    <tr>\n",
              "      <th>994</th>\n",
              "      <td>False</td>\n",
              "      <td>True</td>\n",
              "      <td>False</td>\n",
              "      <td>False</td>\n",
              "      <td>False</td>\n",
              "      <td>False</td>\n",
              "      <td>True</td>\n",
              "      <td>False</td>\n",
              "      <td>False</td>\n",
              "      <td>False</td>\n",
              "      <td>False</td>\n",
              "      <td>False</td>\n",
              "      <td>False</td>\n",
              "      <td>True</td>\n",
              "      <td>False</td>\n",
              "      <td>True</td>\n",
              "    </tr>\n",
              "    <tr>\n",
              "      <th>995</th>\n",
              "      <td>True</td>\n",
              "      <td>False</td>\n",
              "      <td>False</td>\n",
              "      <td>False</td>\n",
              "      <td>True</td>\n",
              "      <td>False</td>\n",
              "      <td>False</td>\n",
              "      <td>False</td>\n",
              "      <td>True</td>\n",
              "      <td>True</td>\n",
              "      <td>True</td>\n",
              "      <td>False</td>\n",
              "      <td>False</td>\n",
              "      <td>False</td>\n",
              "      <td>True</td>\n",
              "      <td>False</td>\n",
              "    </tr>\n",
              "    <tr>\n",
              "      <th>996</th>\n",
              "      <td>True</td>\n",
              "      <td>False</td>\n",
              "      <td>False</td>\n",
              "      <td>False</td>\n",
              "      <td>True</td>\n",
              "      <td>True</td>\n",
              "      <td>False</td>\n",
              "      <td>False</td>\n",
              "      <td>False</td>\n",
              "      <td>False</td>\n",
              "      <td>False</td>\n",
              "      <td>False</td>\n",
              "      <td>True</td>\n",
              "      <td>False</td>\n",
              "      <td>False</td>\n",
              "      <td>True</td>\n",
              "    </tr>\n",
              "    <tr>\n",
              "      <th>997</th>\n",
              "      <td>False</td>\n",
              "      <td>False</td>\n",
              "      <td>True</td>\n",
              "      <td>True</td>\n",
              "      <td>True</td>\n",
              "      <td>False</td>\n",
              "      <td>True</td>\n",
              "      <td>True</td>\n",
              "      <td>True</td>\n",
              "      <td>False</td>\n",
              "      <td>True</td>\n",
              "      <td>False</td>\n",
              "      <td>True</td>\n",
              "      <td>False</td>\n",
              "      <td>True</td>\n",
              "      <td>True</td>\n",
              "    </tr>\n",
              "    <tr>\n",
              "      <th>998</th>\n",
              "      <td>False</td>\n",
              "      <td>False</td>\n",
              "      <td>False</td>\n",
              "      <td>False</td>\n",
              "      <td>False</td>\n",
              "      <td>False</td>\n",
              "      <td>False</td>\n",
              "      <td>False</td>\n",
              "      <td>False</td>\n",
              "      <td>True</td>\n",
              "      <td>False</td>\n",
              "      <td>False</td>\n",
              "      <td>False</td>\n",
              "      <td>False</td>\n",
              "      <td>False</td>\n",
              "      <td>True</td>\n",
              "    </tr>\n",
              "  </tbody>\n",
              "</table>\n",
              "</div>"
            ],
            "text/plain": [
              "     Apple  Bread  Butter  Cheese   Corn   Dill   Eggs  Ice cream  \\\n",
              "994  False   True   False   False  False  False   True      False   \n",
              "995   True  False   False   False   True  False  False      False   \n",
              "996   True  False   False   False   True   True  False      False   \n",
              "997  False  False    True    True   True  False   True       True   \n",
              "998  False  False   False   False  False  False  False      False   \n",
              "\n",
              "     Kidney Beans   Milk  Nutmeg  Onion  Sugar  Unicorn  Yogurt  Chocolate  \n",
              "994         False  False   False  False  False     True   False       True  \n",
              "995          True   True    True  False  False    False    True      False  \n",
              "996         False  False   False  False   True    False   False       True  \n",
              "997          True  False    True  False   True    False    True       True  \n",
              "998         False   True   False  False  False    False   False       True  "
            ]
          },
          "execution_count": 34,
          "metadata": {},
          "output_type": "execute_result"
        }
      ],
      "source": [
        "df = pd.read_csv(r\"C:\\Users\\PC\\Downloads\\ECLAT\\Groceries.csv\", index_col=0)\n",
        "df.tail()"
      ]
    },
    {
      "cell_type": "code",
      "execution_count": 35,
      "metadata": {
        "colab": {
          "base_uri": "https://localhost:8080/"
        },
        "id": "owg2kEM8F3zU",
        "outputId": "fef48949-bb06-4d28-bbd5-20c9358cc383"
      },
      "outputs": [
        {
          "name": "stdout",
          "output_type": "stream",
          "text": [
            "<class 'pandas.core.frame.DataFrame'>\n",
            "Index: 999 entries, 0 to 998\n",
            "Data columns (total 16 columns):\n",
            " #   Column        Non-Null Count  Dtype\n",
            "---  ------        --------------  -----\n",
            " 0   Apple         999 non-null    bool \n",
            " 1   Bread         999 non-null    bool \n",
            " 2   Butter        999 non-null    bool \n",
            " 3   Cheese        999 non-null    bool \n",
            " 4   Corn          999 non-null    bool \n",
            " 5   Dill          999 non-null    bool \n",
            " 6   Eggs          999 non-null    bool \n",
            " 7   Ice cream     999 non-null    bool \n",
            " 8   Kidney Beans  999 non-null    bool \n",
            " 9   Milk          999 non-null    bool \n",
            " 10  Nutmeg        999 non-null    bool \n",
            " 11  Onion         999 non-null    bool \n",
            " 12  Sugar         999 non-null    bool \n",
            " 13  Unicorn       999 non-null    bool \n",
            " 14  Yogurt        999 non-null    bool \n",
            " 15  Chocolate     999 non-null    bool \n",
            "dtypes: bool(16)\n",
            "memory usage: 23.4 KB\n"
          ]
        }
      ],
      "source": [
        "df.info()"
      ]
    },
    {
      "cell_type": "markdown",
      "metadata": {
        "id": "tAeEBWvjGgZ2"
      },
      "source": [
        "- The dataset has 999 rows (each row is a transaction) and 16 columns (16 items).\n",
        "- There are no columns with missing values.\n",
        "- All columns have the data type bool, where True indicates that the transaction contains the item, and False means it does not."
      ]
    },
    {
      "cell_type": "markdown",
      "metadata": {
        "id": "5s02ok_V-Izj"
      },
      "source": [
        "## **1.2 EDA (Explanatory Data Analysis)**"
      ]
    },
    {
      "cell_type": "code",
      "execution_count": 36,
      "metadata": {
        "colab": {
          "base_uri": "https://localhost:8080/",
          "height": 175
        },
        "id": "IJb_NUyiGZ0P",
        "outputId": "2ffc83e4-5f7a-4bec-ccd8-01c6e27fa946"
      },
      "outputs": [
        {
          "data": {
            "text/html": [
              "<div>\n",
              "<style scoped>\n",
              "    .dataframe tbody tr th:only-of-type {\n",
              "        vertical-align: middle;\n",
              "    }\n",
              "\n",
              "    .dataframe tbody tr th {\n",
              "        vertical-align: top;\n",
              "    }\n",
              "\n",
              "    .dataframe thead th {\n",
              "        text-align: right;\n",
              "    }\n",
              "</style>\n",
              "<table border=\"1\" class=\"dataframe\">\n",
              "  <thead>\n",
              "    <tr style=\"text-align: right;\">\n",
              "      <th></th>\n",
              "      <th>Apple</th>\n",
              "      <th>Bread</th>\n",
              "      <th>Butter</th>\n",
              "      <th>Cheese</th>\n",
              "      <th>Corn</th>\n",
              "      <th>Dill</th>\n",
              "      <th>Eggs</th>\n",
              "      <th>Ice cream</th>\n",
              "      <th>Kidney Beans</th>\n",
              "      <th>Milk</th>\n",
              "      <th>Nutmeg</th>\n",
              "      <th>Onion</th>\n",
              "      <th>Sugar</th>\n",
              "      <th>Unicorn</th>\n",
              "      <th>Yogurt</th>\n",
              "      <th>Chocolate</th>\n",
              "    </tr>\n",
              "  </thead>\n",
              "  <tbody>\n",
              "    <tr>\n",
              "      <th>count</th>\n",
              "      <td>999</td>\n",
              "      <td>999</td>\n",
              "      <td>999</td>\n",
              "      <td>999</td>\n",
              "      <td>999</td>\n",
              "      <td>999</td>\n",
              "      <td>999</td>\n",
              "      <td>999</td>\n",
              "      <td>999</td>\n",
              "      <td>999</td>\n",
              "      <td>999</td>\n",
              "      <td>999</td>\n",
              "      <td>999</td>\n",
              "      <td>999</td>\n",
              "      <td>999</td>\n",
              "      <td>999</td>\n",
              "    </tr>\n",
              "    <tr>\n",
              "      <th>unique</th>\n",
              "      <td>2</td>\n",
              "      <td>2</td>\n",
              "      <td>2</td>\n",
              "      <td>2</td>\n",
              "      <td>2</td>\n",
              "      <td>2</td>\n",
              "      <td>2</td>\n",
              "      <td>2</td>\n",
              "      <td>2</td>\n",
              "      <td>2</td>\n",
              "      <td>2</td>\n",
              "      <td>2</td>\n",
              "      <td>2</td>\n",
              "      <td>2</td>\n",
              "      <td>2</td>\n",
              "      <td>2</td>\n",
              "    </tr>\n",
              "    <tr>\n",
              "      <th>top</th>\n",
              "      <td>False</td>\n",
              "      <td>False</td>\n",
              "      <td>False</td>\n",
              "      <td>False</td>\n",
              "      <td>False</td>\n",
              "      <td>False</td>\n",
              "      <td>False</td>\n",
              "      <td>False</td>\n",
              "      <td>False</td>\n",
              "      <td>False</td>\n",
              "      <td>False</td>\n",
              "      <td>False</td>\n",
              "      <td>False</td>\n",
              "      <td>False</td>\n",
              "      <td>False</td>\n",
              "      <td>False</td>\n",
              "    </tr>\n",
              "    <tr>\n",
              "      <th>freq</th>\n",
              "      <td>616</td>\n",
              "      <td>615</td>\n",
              "      <td>579</td>\n",
              "      <td>595</td>\n",
              "      <td>592</td>\n",
              "      <td>601</td>\n",
              "      <td>615</td>\n",
              "      <td>589</td>\n",
              "      <td>591</td>\n",
              "      <td>594</td>\n",
              "      <td>598</td>\n",
              "      <td>596</td>\n",
              "      <td>590</td>\n",
              "      <td>610</td>\n",
              "      <td>579</td>\n",
              "      <td>578</td>\n",
              "    </tr>\n",
              "  </tbody>\n",
              "</table>\n",
              "</div>"
            ],
            "text/plain": [
              "        Apple  Bread Butter Cheese   Corn   Dill   Eggs Ice cream  \\\n",
              "count     999    999    999    999    999    999    999       999   \n",
              "unique      2      2      2      2      2      2      2         2   \n",
              "top     False  False  False  False  False  False  False     False   \n",
              "freq      616    615    579    595    592    601    615       589   \n",
              "\n",
              "       Kidney Beans   Milk Nutmeg  Onion  Sugar Unicorn Yogurt Chocolate  \n",
              "count           999    999    999    999    999     999    999       999  \n",
              "unique            2      2      2      2      2       2      2         2  \n",
              "top           False  False  False  False  False   False  False     False  \n",
              "freq            591    594    598    596    590     610    579       578  "
            ]
          },
          "execution_count": 36,
          "metadata": {},
          "output_type": "execute_result"
        }
      ],
      "source": [
        "df.describe()"
      ]
    },
    {
      "cell_type": "markdown",
      "metadata": {
        "id": "iStIZhDRI5oV"
      },
      "source": [
        "- Since the variables are boolean, the number of unique values in all columns is 2: True and False.\n",
        "- The number of False values is higher than the number of True values in all columns."
      ]
    },
    {
      "cell_type": "code",
      "execution_count": 37,
      "metadata": {
        "colab": {
          "base_uri": "https://localhost:8080/",
          "height": 607
        },
        "id": "XYWW2JlYNNeD",
        "outputId": "abf8e727-9a4f-409f-e622-e802e2719cb5"
      },
      "outputs": [
        {
          "data": {
            "image/png": "[encoded data removed]",
            "text/plain": [
              "<Figure size 1000x600 with 1 Axes>"
            ]
          },
          "metadata": {},
          "output_type": "display_data"
        }
      ],
      "source": [
        "vertical_dict = {}\n",
        "\n",
        "for index, row in df.iterrows():\n",
        "    for col in df.columns:\n",
        "        if row[col]:\n",
        "            if col not in vertical_dict:\n",
        "                vertical_dict[col] = []\n",
        "            vertical_dict[col].append(str(index))\n",
        "\n",
        "vertical_df = pd.DataFrame(list(vertical_dict.items()), columns=['Item', 'Transactions'])\n",
        "vertical_df['Transaction Count'] = vertical_df['Transactions'].apply(len)\n",
        "vertical_df.sort_values(by='Transaction Count', ascending=False, inplace=True)\n",
        "vertical_df.reset_index(drop=True, inplace=True)\n",
        "\n",
        "plt.figure(figsize=(10, 6))\n",
        "plt.bar(vertical_df['Item'], vertical_df['Transaction Count'], color='lightblue')\n",
        "plt.xlabel(\"Product\")\n",
        "plt.ylabel(\"Number of Transactions\")\n",
        "plt.title(\"Number of Transactions per Product (Descending Order)\")\n",
        "plt.xticks(rotation=45)\n",
        "plt.grid(axis='y', linestyle='--', alpha=0.7)\n",
        "plt.tight_layout()\n",
        "plt.show()"
      ]
    },
    {
      "cell_type": "markdown",
      "metadata": {
        "id": "Z8t_yTdCSnK5"
      },
      "source": [
        "The products appear with nearly the same frequency."
      ]
    },
    {
      "cell_type": "code",
      "execution_count": 38,
      "metadata": {
        "colab": {
          "base_uri": "https://localhost:8080/",
          "height": 536
        },
        "id": "xQK7ejiv0qrc",
        "outputId": "537c2269-47c2-4076-8a49-6d39f8a05155"
      },
      "outputs": [
        {
          "data": {
            "image/png": "[encoded data removed]",
            "text/plain": [
              "<Figure size 1000x500 with 1 Axes>"
            ]
          },
          "metadata": {},
          "output_type": "display_data"
        }
      ],
      "source": [
        "item_counts = dict(zip(vertical_df['Item'], vertical_df['Transaction Count']))\n",
        "\n",
        "wordcloud = WordCloud(width=800, height=400, background_color='white').generate_from_frequencies(item_counts)\n",
        "\n",
        "plt.figure(figsize=(10, 5), facecolor=None)\n",
        "plt.imshow(wordcloud)\n",
        "plt.axis(\"off\")\n",
        "plt.tight_layout(pad=0)\n",
        "plt.show()"
      ]
    },
    {
      "cell_type": "code",
      "execution_count": 39,
      "metadata": {
        "colab": {
          "base_uri": "https://localhost:8080/",
          "height": 89
        },
        "id": "STsIZeW3Tc0g",
        "outputId": "efc20edd-0c9d-4f2e-9f52-85e428ab78fd"
      },
      "outputs": [
        {
          "data": {
            "text/html": [
              "<div>\n",
              "<style scoped>\n",
              "    .dataframe tbody tr th:only-of-type {\n",
              "        vertical-align: middle;\n",
              "    }\n",
              "\n",
              "    .dataframe tbody tr th {\n",
              "        vertical-align: top;\n",
              "    }\n",
              "\n",
              "    .dataframe thead th {\n",
              "        text-align: right;\n",
              "    }\n",
              "</style>\n",
              "<table border=\"1\" class=\"dataframe\">\n",
              "  <thead>\n",
              "    <tr style=\"text-align: right;\">\n",
              "      <th></th>\n",
              "      <th>count</th>\n",
              "      <th>median</th>\n",
              "      <th>mode</th>\n",
              "      <th>range</th>\n",
              "      <th>mean</th>\n",
              "      <th>std</th>\n",
              "      <th>min</th>\n",
              "      <th>25%</th>\n",
              "      <th>50%</th>\n",
              "      <th>75%</th>\n",
              "      <th>max</th>\n",
              "    </tr>\n",
              "  </thead>\n",
              "  <tbody>\n",
              "    <tr>\n",
              "      <th>Transaction Count</th>\n",
              "      <td>16.0</td>\n",
              "      <td>404.5</td>\n",
              "      <td>384</td>\n",
              "      <td>38</td>\n",
              "      <td>402.875</td>\n",
              "      <td>12.595634</td>\n",
              "      <td>383.0</td>\n",
              "      <td>395.75</td>\n",
              "      <td>404.5</td>\n",
              "      <td>409.25</td>\n",
              "      <td>421.0</td>\n",
              "    </tr>\n",
              "  </tbody>\n",
              "</table>\n",
              "</div>"
            ],
            "text/plain": [
              "                   count  median  mode  range     mean        std    min  \\\n",
              "Transaction Count   16.0   404.5   384     38  402.875  12.595634  383.0   \n",
              "\n",
              "                      25%    50%     75%    max  \n",
              "Transaction Count  395.75  404.5  409.25  421.0  "
            ]
          },
          "execution_count": 39,
          "metadata": {},
          "output_type": "execute_result"
        }
      ],
      "source": [
        "df_describe = pd.DataFrame(vertical_df[\"Transaction Count\"].describe()).T\n",
        "df_describe.insert(1, \"median\", vertical_df[\"Transaction Count\"].median())\n",
        "df_describe.insert(2, \"mode\", vertical_df[\"Transaction Count\"].mode().iloc[0])\n",
        "df_describe.insert(3, \"range\", vertical_df[\"Transaction Count\"].max() - vertical_df[\"Transaction Count\"].min())\n",
        "df_describe"
      ]
    },
    {
      "cell_type": "markdown",
      "metadata": {
        "id": "061zliWbVhuh"
      },
      "source": [
        "- According to the descriptive statistics, the range of the number of transactions per product is 38.\n",
        "- Each product appears in approximately 383 to 421 transactions out of a total of 999 transactions.\n",
        "- The products appear in about 38% to 42% of all transactions, which is considered quite high. "
      ]
    },
    {
      "cell_type": "code",
      "execution_count": 40,
      "metadata": {
        "colab": {
          "base_uri": "https://localhost:8080/",
          "height": 607
        },
        "id": "Q2bBL-TTOdFa",
        "outputId": "31a9f740-e9ac-46cd-c822-57cbb0fd727f"
      },
      "outputs": [
        {
          "data": {
            "image/png": "[encoded data removed]",
            "text/plain": [
              "<Figure size 1000x600 with 1 Axes>"
            ]
          },
          "metadata": {},
          "output_type": "display_data"
        }
      ],
      "source": [
        "transactions = []\n",
        "for index, row in df.iterrows():\n",
        "    items = []\n",
        "    for col in df.columns:\n",
        "        if row[col] == True:\n",
        "            items.append(col)\n",
        "    transactions.append(items)\n",
        "\n",
        "items_df = pd.DataFrame({'ID': df.index, 'Items': transactions})\n",
        "items_per_transaction = items_df['Items'].str.len()\n",
        "plot_df = pd.DataFrame({'Transaction ID': items_df['ID'], 'Number of Items': items_per_transaction})\n",
        "plot_df = plot_df.sort_values(by='Number of Items', ascending=False)\n",
        "transaction_counts = plot_df['Number of Items'].value_counts().sort_index()\n",
        "\n",
        "plt.figure(figsize=(10, 6))\n",
        "plt.bar(transaction_counts.index, transaction_counts.values, color='lightblue')\n",
        "plt.xlabel(\"Number of Products per Transaction\")\n",
        "plt.ylabel(\"Number of Transactions\")\n",
        "plt.title(\"Number of Transactions by Number of Products per Transaction\")\n",
        "plt.xticks(np.arange(1, 14), rotation=0)\n",
        "plt.grid(axis='y', linestyle='--', alpha=0.7)\n",
        "plt.tight_layout()\n",
        "plt.show()"
      ]
    },
    {
      "cell_type": "markdown",
      "metadata": {
        "id": "9d_WZ5AC7-xP"
      },
      "source": [
        "- Transactions with 7 products are the most frequent, followed by transactions with 8 and 9 products.\n",
        "- Starting from 11 products, the number of transactions decreases, with the lowest number observed at 13 products.\n",
        "- There are no transactions containing 14 or more products."
      ]
    },
    {
      "cell_type": "markdown",
      "metadata": {
        "id": "3Vbv61umaun6"
      },
      "source": [
        "# **2.  Identifying Frequent Itemsets**"
      ]
    },
    {
      "cell_type": "markdown",
      "metadata": {
        "id": "YaFDHMUAUork"
      },
      "source": [
        "## **2.1 Choosing an appropriate Minimum Support Threshold**"
      ]
    },
    {
      "cell_type": "code",
      "execution_count": 41,
      "metadata": {
        "colab": {
          "base_uri": "https://localhost:8080/"
        },
        "id": "P-8qKuHgQtOG",
        "outputId": "9168f67e-d04c-448b-c02f-1e39ed512fc2"
      },
      "outputs": [
        {
          "name": "stdout",
          "output_type": "stream",
          "text": [
            "Total number of transactions: 999\n",
            "Number of product pairs: 120\n",
            "Average support of product pairs: 0.1828\n",
            "Selected Min Support: 0.1097\n",
            "Final Min Support: 0.11\n"
          ]
        }
      ],
      "source": [
        "def calculate_min_sup_for_pairs(transactions, target_ratio=0.1):\n",
        "    \"\"\"\n",
        "    Find a suitable min_sup value so that frequent itemsets of size 2 appear sufficiently often.\n",
        "\n",
        "    Args:\n",
        "        transactions (list of list): The transaction dataset.\n",
        "        target_ratio (float): Target ratio of frequent 2-itemsets compared to total transactions.\n",
        "\n",
        "    Returns:\n",
        "        float: The appropriate min_sup value.\n",
        "    \"\"\"\n",
        "    num_transactions = len(transactions)\n",
        "\n",
        "    # Count the frequency of each item pair\n",
        "    pair_counts = Counter()\n",
        "    for transaction in transactions:\n",
        "        for pair in combinations(sorted(transaction), 2):\n",
        "            pair_counts[pair] += 1\n",
        "\n",
        "    # Calculate support for each pair\n",
        "    pair_supports = [count / num_transactions for count in pair_counts.values()]\n",
        "\n",
        "    # Calculate the average support and adjust based on target_ratio\n",
        "    avg_pair_support = np.mean(pair_supports)\n",
        "    min_sup = avg_pair_support * target_ratio\n",
        "\n",
        "    print(f\"Total number of transactions: {num_transactions}\")\n",
        "    print(f\"Number of product pairs: {len(pair_counts)}\")\n",
        "    print(f\"Average support of product pairs: {avg_pair_support:.4f}\")\n",
        "    print(f\"Selected Min Support: {min_sup:.4f}\")\n",
        "\n",
        "    return min_sup\n",
        "\n",
        "min_sup = round(calculate_min_sup_for_pairs(transactions, target_ratio=0.6), 2)\n",
        "print(f\"Final Min Support: {min_sup}\")"
      ]
    },
    {
      "cell_type": "markdown",
      "metadata": {
        "id": "NR53jE7ZGZw2"
      },
      "source": [
        "## **2.2 Implementing the ECLAT algorithm using the pyECLAT library**\n",
        "\n",
        "> https://pypi.org/project/pyECLAT/"
      ]
    },
    {
      "cell_type": "code",
      "execution_count": 42,
      "metadata": {
        "colab": {
          "base_uri": "https://localhost:8080/",
          "height": 206
        },
        "id": "__Gj6wRqL1lC",
        "outputId": "9f4df456-8187-4d87-bd5f-0cc841d57897"
      },
      "outputs": [
        {
          "data": {
            "text/html": [
              "<div>\n",
              "<style scoped>\n",
              "    .dataframe tbody tr th:only-of-type {\n",
              "        vertical-align: middle;\n",
              "    }\n",
              "\n",
              "    .dataframe tbody tr th {\n",
              "        vertical-align: top;\n",
              "    }\n",
              "\n",
              "    .dataframe thead th {\n",
              "        text-align: right;\n",
              "    }\n",
              "</style>\n",
              "<table border=\"1\" class=\"dataframe\">\n",
              "  <thead>\n",
              "    <tr style=\"text-align: right;\">\n",
              "      <th></th>\n",
              "      <th>0</th>\n",
              "      <th>1</th>\n",
              "      <th>2</th>\n",
              "      <th>3</th>\n",
              "      <th>4</th>\n",
              "      <th>5</th>\n",
              "      <th>6</th>\n",
              "      <th>7</th>\n",
              "      <th>8</th>\n",
              "      <th>9</th>\n",
              "      <th>10</th>\n",
              "      <th>11</th>\n",
              "      <th>12</th>\n",
              "    </tr>\n",
              "  </thead>\n",
              "  <tbody>\n",
              "    <tr>\n",
              "      <th>994</th>\n",
              "      <td>Bread</td>\n",
              "      <td>Eggs</td>\n",
              "      <td>Unicorn</td>\n",
              "      <td>Chocolate</td>\n",
              "      <td>NaN</td>\n",
              "      <td>NaN</td>\n",
              "      <td>NaN</td>\n",
              "      <td>NaN</td>\n",
              "      <td>NaN</td>\n",
              "      <td>NaN</td>\n",
              "      <td>NaN</td>\n",
              "      <td>NaN</td>\n",
              "      <td>NaN</td>\n",
              "    </tr>\n",
              "    <tr>\n",
              "      <th>995</th>\n",
              "      <td>Apple</td>\n",
              "      <td>Corn</td>\n",
              "      <td>Kidney Beans</td>\n",
              "      <td>Milk</td>\n",
              "      <td>Nutmeg</td>\n",
              "      <td>Yogurt</td>\n",
              "      <td>NaN</td>\n",
              "      <td>NaN</td>\n",
              "      <td>NaN</td>\n",
              "      <td>NaN</td>\n",
              "      <td>NaN</td>\n",
              "      <td>NaN</td>\n",
              "      <td>NaN</td>\n",
              "    </tr>\n",
              "    <tr>\n",
              "      <th>996</th>\n",
              "      <td>Apple</td>\n",
              "      <td>Corn</td>\n",
              "      <td>Dill</td>\n",
              "      <td>Sugar</td>\n",
              "      <td>Chocolate</td>\n",
              "      <td>NaN</td>\n",
              "      <td>NaN</td>\n",
              "      <td>NaN</td>\n",
              "      <td>NaN</td>\n",
              "      <td>NaN</td>\n",
              "      <td>NaN</td>\n",
              "      <td>NaN</td>\n",
              "      <td>NaN</td>\n",
              "    </tr>\n",
              "    <tr>\n",
              "      <th>997</th>\n",
              "      <td>Butter</td>\n",
              "      <td>Cheese</td>\n",
              "      <td>Corn</td>\n",
              "      <td>Eggs</td>\n",
              "      <td>Ice cream</td>\n",
              "      <td>Kidney Beans</td>\n",
              "      <td>Nutmeg</td>\n",
              "      <td>Sugar</td>\n",
              "      <td>Yogurt</td>\n",
              "      <td>Chocolate</td>\n",
              "      <td>NaN</td>\n",
              "      <td>NaN</td>\n",
              "      <td>NaN</td>\n",
              "    </tr>\n",
              "    <tr>\n",
              "      <th>998</th>\n",
              "      <td>Milk</td>\n",
              "      <td>Chocolate</td>\n",
              "      <td>NaN</td>\n",
              "      <td>NaN</td>\n",
              "      <td>NaN</td>\n",
              "      <td>NaN</td>\n",
              "      <td>NaN</td>\n",
              "      <td>NaN</td>\n",
              "      <td>NaN</td>\n",
              "      <td>NaN</td>\n",
              "      <td>NaN</td>\n",
              "      <td>NaN</td>\n",
              "      <td>NaN</td>\n",
              "    </tr>\n",
              "  </tbody>\n",
              "</table>\n",
              "</div>"
            ],
            "text/plain": [
              "         0          1             2          3          4             5   \\\n",
              "994   Bread       Eggs       Unicorn  Chocolate        NaN           NaN   \n",
              "995   Apple       Corn  Kidney Beans       Milk     Nutmeg        Yogurt   \n",
              "996   Apple       Corn          Dill      Sugar  Chocolate           NaN   \n",
              "997  Butter     Cheese          Corn       Eggs  Ice cream  Kidney Beans   \n",
              "998    Milk  Chocolate           NaN        NaN        NaN           NaN   \n",
              "\n",
              "         6      7       8          9    10   11   12  \n",
              "994     NaN    NaN     NaN        NaN  NaN  NaN  NaN  \n",
              "995     NaN    NaN     NaN        NaN  NaN  NaN  NaN  \n",
              "996     NaN    NaN     NaN        NaN  NaN  NaN  NaN  \n",
              "997  Nutmeg  Sugar  Yogurt  Chocolate  NaN  NaN  NaN  \n",
              "998     NaN    NaN     NaN        NaN  NaN  NaN  NaN  "
            ]
          },
          "execution_count": 42,
          "metadata": {},
          "output_type": "execute_result"
        }
      ],
      "source": [
        "# Convert to the format where each row represents a customer's transaction\n",
        "transactions = []\n",
        "for index, row in df.iterrows():\n",
        "    items = []\n",
        "    for col in df.columns:\n",
        "        if row[col] == True:\n",
        "            items.append(col)\n",
        "    transactions.append(items)\n",
        "\n",
        "df1 = pd.DataFrame(transactions)\n",
        "df1 = df1.replace({None: np.nan})\n",
        "df1.tail()"
      ]
    },
    {
      "cell_type": "code",
      "execution_count": 43,
      "metadata": {
        "colab": {
          "base_uri": "https://localhost:8080/"
        },
        "id": "ycPoDrO-Gqad",
        "outputId": "794b1fc2-de9c-4ef7-b8a2-ab2ad0c71dbe"
      },
      "outputs": [
        {
          "name": "stderr",
          "output_type": "stream",
          "text": [
            "100%|██████████| 16/16 [00:00<00:00, 340.08it/s]\n",
            "100%|██████████| 16/16 [00:00<?, ?it/s]\n",
            "100%|██████████| 16/16 [00:00<00:00, 3202.98it/s]\n"
          ]
        }
      ],
      "source": [
        "eclat_instance = ECLAT(data=df1, verbose=True)"
      ]
    },
    {
      "cell_type": "code",
      "execution_count": 48,
      "metadata": {
        "colab": {
          "base_uri": "https://localhost:8080/",
          "height": 206
        },
        "id": "MfakbnQjNLHR",
        "outputId": "88873291-5ace-449d-9e78-c5e4c6137819"
      },
      "outputs": [
        {
          "data": {
            "text/html": [
              "<div>\n",
              "<style scoped>\n",
              "    .dataframe tbody tr th:only-of-type {\n",
              "        vertical-align: middle;\n",
              "    }\n",
              "\n",
              "    .dataframe tbody tr th {\n",
              "        vertical-align: top;\n",
              "    }\n",
              "\n",
              "    .dataframe thead th {\n",
              "        text-align: right;\n",
              "    }\n",
              "</style>\n",
              "<table border=\"1\" class=\"dataframe\">\n",
              "  <thead>\n",
              "    <tr style=\"text-align: right;\">\n",
              "      <th></th>\n",
              "      <th>Bread</th>\n",
              "      <th>Dill</th>\n",
              "      <th>Unicorn</th>\n",
              "      <th>Ice cream</th>\n",
              "      <th>Cheese</th>\n",
              "      <th>Yogurt</th>\n",
              "      <th>Eggs</th>\n",
              "      <th>Corn</th>\n",
              "      <th>Milk</th>\n",
              "      <th>Butter</th>\n",
              "      <th>Nutmeg</th>\n",
              "      <th>Apple</th>\n",
              "      <th>Sugar</th>\n",
              "      <th>Chocolate</th>\n",
              "      <th>Onion</th>\n",
              "      <th>Kidney Beans</th>\n",
              "    </tr>\n",
              "  </thead>\n",
              "  <tbody>\n",
              "    <tr>\n",
              "      <th>0</th>\n",
              "      <td>1</td>\n",
              "      <td>1</td>\n",
              "      <td>0</td>\n",
              "      <td>1</td>\n",
              "      <td>0</td>\n",
              "      <td>1</td>\n",
              "      <td>0</td>\n",
              "      <td>1</td>\n",
              "      <td>0</td>\n",
              "      <td>0</td>\n",
              "      <td>0</td>\n",
              "      <td>0</td>\n",
              "      <td>1</td>\n",
              "      <td>1</td>\n",
              "      <td>0</td>\n",
              "      <td>0</td>\n",
              "    </tr>\n",
              "    <tr>\n",
              "      <th>1</th>\n",
              "      <td>0</td>\n",
              "      <td>0</td>\n",
              "      <td>0</td>\n",
              "      <td>0</td>\n",
              "      <td>0</td>\n",
              "      <td>0</td>\n",
              "      <td>0</td>\n",
              "      <td>0</td>\n",
              "      <td>1</td>\n",
              "      <td>0</td>\n",
              "      <td>0</td>\n",
              "      <td>0</td>\n",
              "      <td>0</td>\n",
              "      <td>0</td>\n",
              "      <td>0</td>\n",
              "      <td>0</td>\n",
              "    </tr>\n",
              "    <tr>\n",
              "      <th>2</th>\n",
              "      <td>0</td>\n",
              "      <td>1</td>\n",
              "      <td>0</td>\n",
              "      <td>1</td>\n",
              "      <td>0</td>\n",
              "      <td>1</td>\n",
              "      <td>0</td>\n",
              "      <td>0</td>\n",
              "      <td>1</td>\n",
              "      <td>1</td>\n",
              "      <td>0</td>\n",
              "      <td>1</td>\n",
              "      <td>0</td>\n",
              "      <td>1</td>\n",
              "      <td>0</td>\n",
              "      <td>0</td>\n",
              "    </tr>\n",
              "    <tr>\n",
              "      <th>3</th>\n",
              "      <td>0</td>\n",
              "      <td>1</td>\n",
              "      <td>0</td>\n",
              "      <td>0</td>\n",
              "      <td>1</td>\n",
              "      <td>0</td>\n",
              "      <td>0</td>\n",
              "      <td>0</td>\n",
              "      <td>1</td>\n",
              "      <td>1</td>\n",
              "      <td>1</td>\n",
              "      <td>0</td>\n",
              "      <td>0</td>\n",
              "      <td>0</td>\n",
              "      <td>1</td>\n",
              "      <td>0</td>\n",
              "    </tr>\n",
              "    <tr>\n",
              "      <th>4</th>\n",
              "      <td>1</td>\n",
              "      <td>0</td>\n",
              "      <td>0</td>\n",
              "      <td>0</td>\n",
              "      <td>0</td>\n",
              "      <td>0</td>\n",
              "      <td>0</td>\n",
              "      <td>0</td>\n",
              "      <td>0</td>\n",
              "      <td>0</td>\n",
              "      <td>0</td>\n",
              "      <td>1</td>\n",
              "      <td>0</td>\n",
              "      <td>0</td>\n",
              "      <td>0</td>\n",
              "      <td>0</td>\n",
              "    </tr>\n",
              "  </tbody>\n",
              "</table>\n",
              "</div>"
            ],
            "text/plain": [
              "   Bread  Dill  Unicorn  Ice cream  Cheese  Yogurt  Eggs  Corn  Milk  Butter  \\\n",
              "0      1     1        0          1       0       1     0     1     0       0   \n",
              "1      0     0        0          0       0       0     0     0     1       0   \n",
              "2      0     1        0          1       0       1     0     0     1       1   \n",
              "3      0     1        0          0       1       0     0     0     1       1   \n",
              "4      1     0        0          0       0       0     0     0     0       0   \n",
              "\n",
              "   Nutmeg  Apple  Sugar  Chocolate  Onion  Kidney Beans  \n",
              "0       0      0      1          1      0             0  \n",
              "1       0      0      0          0      0             0  \n",
              "2       0      1      0          1      0             0  \n",
              "3       1      0      0          0      1             0  \n",
              "4       0      1      0          0      0             0  "
            ]
          },
          "execution_count": 48,
          "metadata": {},
          "output_type": "execute_result"
        }
      ],
      "source": [
        "eclat_instance.df_bin.head()"
      ]
    },
    {
      "cell_type": "markdown",
      "metadata": {
        "id": "PmZh4NfqihKN"
      },
      "source": [
        "The eclat_instance of pyECLAT library provides two methods: fit() and fit_all(). \n",
        "\n",
        "The author chooses to use the fit_all() method because the goal is to analyze the entire dataset in order to gain deeper insights into all frequent itemsets.  \n",
        "\n",
        "The fit_all() method returns a dictionary where:\n",
        "- Key: The name of the itemset (a combination of products)\n",
        "- Value: The support value (the frequency of occurrence of that itemset across all transactions)\n",
        "\n"
      ]
    },
    {
      "cell_type": "code",
      "execution_count": 44,
      "metadata": {
        "colab": {
          "base_uri": "https://localhost:8080/"
        },
        "id": "D56OqHnLkTHC",
        "outputId": "2bfcad6e-973b-4a94-a625-be11f93356a1"
      },
      "outputs": [
        {
          "name": "stdout",
          "output_type": "stream",
          "text": [
            "Combination 1 by 1\n"
          ]
        },
        {
          "name": "stderr",
          "output_type": "stream",
          "text": [
            "16it [00:00, 230.57it/s]\n"
          ]
        },
        {
          "name": "stdout",
          "output_type": "stream",
          "text": [
            "Combination 2 by 2\n"
          ]
        },
        {
          "name": "stderr",
          "output_type": "stream",
          "text": [
            "120it [00:00, 241.46it/s]\n"
          ]
        },
        {
          "name": "stdout",
          "output_type": "stream",
          "text": [
            "Combination 3 by 3\n"
          ]
        },
        {
          "name": "stderr",
          "output_type": "stream",
          "text": [
            "560it [00:01, 448.40it/s]\n"
          ]
        },
        {
          "name": "stdout",
          "output_type": "stream",
          "text": [
            "Combination 4 by 4\n"
          ]
        },
        {
          "name": "stderr",
          "output_type": "stream",
          "text": [
            "1820it [00:04, 437.04it/s]"
          ]
        },
        {
          "name": "stdout",
          "output_type": "stream",
          "text": [
            "Stopping in combination 4 by 4. All supports = 0.\n"
          ]
        },
        {
          "name": "stderr",
          "output_type": "stream",
          "text": [
            "\n"
          ]
        }
      ],
      "source": [
        "get_ECLAT_indexes, get_ECLAT_supports = eclat_instance.fit_all(min_support=min_sup,\n",
        "                                            separator=' & ',\n",
        "                                            verbose=True)"
      ]
    },
    {
      "cell_type": "code",
      "execution_count": null,
      "metadata": {
        "colab": {
          "base_uri": "https://localhost:8080/",
          "height": 423
        },
        "id": "mtllYlIYxDAG",
        "outputId": "f3a2e94d-4bac-42d9-8d99-34f7c074ee65"
      },
      "outputs": [
        {
          "data": {
            "text/html": [
              "<div>\n",
              "<style scoped>\n",
              "    .dataframe tbody tr th:only-of-type {\n",
              "        vertical-align: middle;\n",
              "    }\n",
              "\n",
              "    .dataframe tbody tr th {\n",
              "        vertical-align: top;\n",
              "    }\n",
              "\n",
              "    .dataframe thead th {\n",
              "        text-align: right;\n",
              "    }\n",
              "</style>\n",
              "<table border=\"1\" class=\"dataframe\">\n",
              "  <thead>\n",
              "    <tr style=\"text-align: right;\">\n",
              "      <th></th>\n",
              "      <th>Itemset</th>\n",
              "      <th>Support</th>\n",
              "    </tr>\n",
              "  </thead>\n",
              "  <tbody>\n",
              "    <tr>\n",
              "      <th>0</th>\n",
              "      <td>Ice cream &amp; Butter &amp; Kidney Beans</td>\n",
              "      <td>0.110110</td>\n",
              "    </tr>\n",
              "    <tr>\n",
              "      <th>1</th>\n",
              "      <td>Dill &amp; Milk &amp; Chocolate</td>\n",
              "      <td>0.114114</td>\n",
              "    </tr>\n",
              "    <tr>\n",
              "      <th>2</th>\n",
              "      <td>Bread &amp; Apple</td>\n",
              "      <td>0.154154</td>\n",
              "    </tr>\n",
              "    <tr>\n",
              "      <th>3</th>\n",
              "      <td>Eggs &amp; Apple</td>\n",
              "      <td>0.156156</td>\n",
              "    </tr>\n",
              "    <tr>\n",
              "      <th>4</th>\n",
              "      <td>Bread &amp; Eggs</td>\n",
              "      <td>0.157157</td>\n",
              "    </tr>\n",
              "    <tr>\n",
              "      <th>...</th>\n",
              "      <td>...</td>\n",
              "      <td>...</td>\n",
              "    </tr>\n",
              "    <tr>\n",
              "      <th>133</th>\n",
              "      <td>Sugar</td>\n",
              "      <td>0.409409</td>\n",
              "    </tr>\n",
              "    <tr>\n",
              "      <th>134</th>\n",
              "      <td>Ice cream</td>\n",
              "      <td>0.410410</td>\n",
              "    </tr>\n",
              "    <tr>\n",
              "      <th>135</th>\n",
              "      <td>Yogurt</td>\n",
              "      <td>0.420420</td>\n",
              "    </tr>\n",
              "    <tr>\n",
              "      <th>136</th>\n",
              "      <td>Butter</td>\n",
              "      <td>0.420420</td>\n",
              "    </tr>\n",
              "    <tr>\n",
              "      <th>137</th>\n",
              "      <td>Chocolate</td>\n",
              "      <td>0.421421</td>\n",
              "    </tr>\n",
              "  </tbody>\n",
              "</table>\n",
              "<p>138 rows × 2 columns</p>\n",
              "</div>"
            ],
            "text/plain": [
              "                               Itemset   Support\n",
              "0    Ice cream & Butter & Kidney Beans  0.110110\n",
              "1              Dill & Milk & Chocolate  0.114114\n",
              "2                        Bread & Apple  0.154154\n",
              "3                         Eggs & Apple  0.156156\n",
              "4                         Bread & Eggs  0.157157\n",
              "..                                 ...       ...\n",
              "133                              Sugar  0.409409\n",
              "134                          Ice cream  0.410410\n",
              "135                             Yogurt  0.420420\n",
              "136                             Butter  0.420420\n",
              "137                          Chocolate  0.421421\n",
              "\n",
              "[138 rows x 2 columns]"
            ]
          },
          "execution_count": 53,
          "metadata": {},
          "output_type": "execute_result"
        }
      ],
      "source": [
        "frequent_itemsets_ec = []\n",
        "for item, support in get_ECLAT_supports.items():    \n",
        "    frequent_itemsets_ec.append((item, support))\n",
        "frequent_itemsets_ec.sort(key=lambda x: x[1])\n",
        "frequent_itemsets_ec_df = pd.DataFrame(frequent_itemsets_ec, columns=['Itemset', 'Support'])\n",
        "frequent_itemsets_ec_df"
      ]
    },
    {
      "cell_type": "code",
      "execution_count": null,
      "metadata": {},
      "outputs": [],
      "source": [
        "# Split the 'Itemset' column and convert each itemset to frozenset\n",
        "frequent_itemsets_ec_df['Itemset'] = frequent_itemsets_ec_df['Itemset'].str.split(' & ')\n",
        "frequent_itemsets_ec_df['Itemset'] = frequent_itemsets_ec_df['Itemset'].apply(lambda x: frozenset(x))\n",
        "frequent_itemsets_ec = frequent_itemsets_ec_df.values.tolist()"
      ]
    },
    {
      "cell_type": "markdown",
      "metadata": {
        "id": "kXR_GOvjbKPf"
      },
      "source": [
        "# **3. Generating Association Rules**"
      ]
    },
    {
      "cell_type": "markdown",
      "metadata": {
        "id": "b5xoTh3y3uSe"
      },
      "source": [
        "## **3.1 Calculating Confidence for Frequent Itemsets**"
      ]
    },
    {
      "cell_type": "code",
      "execution_count": 83,
      "metadata": {
        "colab": {
          "base_uri": "https://localhost:8080/",
          "height": 423
        },
        "id": "Yqtf4dw9eFZn",
        "outputId": "e18b74bb-601c-4ca3-be26-9695b35294af"
      },
      "outputs": [
        {
          "data": {
            "text/html": [
              "<div>\n",
              "<style scoped>\n",
              "    .dataframe tbody tr th:only-of-type {\n",
              "        vertical-align: middle;\n",
              "    }\n",
              "\n",
              "    .dataframe tbody tr th {\n",
              "        vertical-align: top;\n",
              "    }\n",
              "\n",
              "    .dataframe thead th {\n",
              "        text-align: right;\n",
              "    }\n",
              "</style>\n",
              "<table border=\"1\" class=\"dataframe\">\n",
              "  <thead>\n",
              "    <tr style=\"text-align: right;\">\n",
              "      <th></th>\n",
              "      <th>Left-hand side</th>\n",
              "      <th>Right-hand side</th>\n",
              "      <th>Confidence</th>\n",
              "      <th>Support</th>\n",
              "    </tr>\n",
              "  </thead>\n",
              "  <tbody>\n",
              "    <tr>\n",
              "      <th>0</th>\n",
              "      <td>(Kidney Beans, Ice cream)</td>\n",
              "      <td>(Butter)</td>\n",
              "      <td>0.561224</td>\n",
              "      <td>0.110110</td>\n",
              "    </tr>\n",
              "    <tr>\n",
              "      <th>1</th>\n",
              "      <td>(Butter, Ice cream)</td>\n",
              "      <td>(Kidney Beans)</td>\n",
              "      <td>0.531401</td>\n",
              "      <td>0.110110</td>\n",
              "    </tr>\n",
              "    <tr>\n",
              "      <th>2</th>\n",
              "      <td>(Butter, Kidney Beans)</td>\n",
              "      <td>(Ice cream)</td>\n",
              "      <td>0.544554</td>\n",
              "      <td>0.110110</td>\n",
              "    </tr>\n",
              "    <tr>\n",
              "      <th>3</th>\n",
              "      <td>(Chocolate, Milk)</td>\n",
              "      <td>(Dill)</td>\n",
              "      <td>0.540284</td>\n",
              "      <td>0.114114</td>\n",
              "    </tr>\n",
              "    <tr>\n",
              "      <th>4</th>\n",
              "      <td>(Dill, Milk)</td>\n",
              "      <td>(Chocolate)</td>\n",
              "      <td>0.600000</td>\n",
              "      <td>0.114114</td>\n",
              "    </tr>\n",
              "    <tr>\n",
              "      <th>...</th>\n",
              "      <td>...</td>\n",
              "      <td>...</td>\n",
              "      <td>...</td>\n",
              "      <td>...</td>\n",
              "    </tr>\n",
              "    <tr>\n",
              "      <th>241</th>\n",
              "      <td>(Butter)</td>\n",
              "      <td>(Kidney Beans)</td>\n",
              "      <td>0.480952</td>\n",
              "      <td>0.202202</td>\n",
              "    </tr>\n",
              "    <tr>\n",
              "      <th>242</th>\n",
              "      <td>(Ice cream)</td>\n",
              "      <td>(Butter)</td>\n",
              "      <td>0.504878</td>\n",
              "      <td>0.207207</td>\n",
              "    </tr>\n",
              "    <tr>\n",
              "      <th>243</th>\n",
              "      <td>(Butter)</td>\n",
              "      <td>(Ice cream)</td>\n",
              "      <td>0.492857</td>\n",
              "      <td>0.207207</td>\n",
              "    </tr>\n",
              "    <tr>\n",
              "      <th>244</th>\n",
              "      <td>(Milk)</td>\n",
              "      <td>(Chocolate)</td>\n",
              "      <td>0.520988</td>\n",
              "      <td>0.211211</td>\n",
              "    </tr>\n",
              "    <tr>\n",
              "      <th>245</th>\n",
              "      <td>(Chocolate)</td>\n",
              "      <td>(Milk)</td>\n",
              "      <td>0.501188</td>\n",
              "      <td>0.211211</td>\n",
              "    </tr>\n",
              "  </tbody>\n",
              "</table>\n",
              "<p>246 rows × 4 columns</p>\n",
              "</div>"
            ],
            "text/plain": [
              "                Left-hand side Right-hand side  Confidence   Support\n",
              "0    (Kidney Beans, Ice cream)        (Butter)    0.561224  0.110110\n",
              "1          (Butter, Ice cream)  (Kidney Beans)    0.531401  0.110110\n",
              "2       (Butter, Kidney Beans)     (Ice cream)    0.544554  0.110110\n",
              "3            (Chocolate, Milk)          (Dill)    0.540284  0.114114\n",
              "4                 (Dill, Milk)     (Chocolate)    0.600000  0.114114\n",
              "..                         ...             ...         ...       ...\n",
              "241                   (Butter)  (Kidney Beans)    0.480952  0.202202\n",
              "242                (Ice cream)        (Butter)    0.504878  0.207207\n",
              "243                   (Butter)     (Ice cream)    0.492857  0.207207\n",
              "244                     (Milk)     (Chocolate)    0.520988  0.211211\n",
              "245                (Chocolate)          (Milk)    0.501188  0.211211\n",
              "\n",
              "[246 rows x 4 columns]"
            ]
          },
          "execution_count": 83,
          "metadata": {},
          "output_type": "execute_result"
        }
      ],
      "source": [
        "def calculate_confidence(frequent_itemsets):\n",
        "    \"\"\"\n",
        "    Calculate the confidence metric for all association rules generated from frequent itemsets.\n",
        "\n",
        "    Parameters:\n",
        "        - frequent_itemsets: List of tuples (frozenset itemset, support).\n",
        "\n",
        "    Returns:\n",
        "        - rules: List of tuples (frozenset(lhs), frozenset(rhs), confidence, support).\n",
        "    \"\"\"\n",
        "    # Convert frequent_itemsets to dictionary for easy access\n",
        "    support_dict = {itemset: support for itemset, support in frequent_itemsets}\n",
        "\n",
        "    rules = []\n",
        "    for itemset, itemset_support in frequent_itemsets:\n",
        "        if len(itemset) > 1:  # Only consider itemsets with 2 or more items\n",
        "            for item in itemset:\n",
        "                # Create left-hand side (lhs) and right-hand side (rhs)\n",
        "                lhs = itemset - frozenset([item])\n",
        "                rhs = frozenset([item])\n",
        "\n",
        "                # Calculate confidence\n",
        "                lhs_support = support_dict.get(lhs, 0)\n",
        "                if lhs_support > 0:  # Avoid division by zero\n",
        "                    confidence = itemset_support / lhs_support\n",
        "                    rules.append((lhs, rhs, confidence, itemset_support))\n",
        "    return rules\n",
        "\n",
        "# Calculate association rules and create DataFrame\n",
        "rules = calculate_confidence(frequent_itemsets_ec)\n",
        "rules_df = pd.DataFrame(rules, columns=['Left-hand side', 'Right-hand side', 'Confidence', 'Support'])\n",
        "\n",
        "rules_df"
      ]
    },
    {
      "cell_type": "markdown",
      "metadata": {
        "id": "9VooS9hf38rC"
      },
      "source": [
        "## **3.2 Choosing an appropriate Minimum Confidence Threshold**"
      ]
    },
    {
      "cell_type": "markdown",
      "metadata": {
        "id": "nf2Wbb5xgmsk"
      },
      "source": [
        "Determine an appropriate Min Confidence threshold based on the confidence distribution:\n",
        "- Calculate the confidence of all association rules from the dataset.\n",
        "- Identify the confidence value at the 75th percentile.\n",
        "- Set the minimum confidence threshold at this level or higher to retain the most reliable rules."
      ]
    },
    {
      "cell_type": "code",
      "execution_count": 70,
      "metadata": {
        "colab": {
          "base_uri": "https://localhost:8080/",
          "height": 112
        },
        "id": "m8Ekw4QkgwxI",
        "outputId": "19d850bc-eb0c-47c9-b166-0d48a6297d13"
      },
      "outputs": [
        {
          "data": {
            "text/html": [
              "<div>\n",
              "<style scoped>\n",
              "    .dataframe tbody tr th:only-of-type {\n",
              "        vertical-align: middle;\n",
              "    }\n",
              "\n",
              "    .dataframe tbody tr th {\n",
              "        vertical-align: top;\n",
              "    }\n",
              "\n",
              "    .dataframe thead th {\n",
              "        text-align: right;\n",
              "    }\n",
              "</style>\n",
              "<table border=\"1\" class=\"dataframe\">\n",
              "  <thead>\n",
              "    <tr style=\"text-align: right;\">\n",
              "      <th></th>\n",
              "      <th>count</th>\n",
              "      <th>mean</th>\n",
              "      <th>std</th>\n",
              "      <th>min</th>\n",
              "      <th>25%</th>\n",
              "      <th>50%</th>\n",
              "      <th>75%</th>\n",
              "      <th>max</th>\n",
              "    </tr>\n",
              "  </thead>\n",
              "  <tbody>\n",
              "    <tr>\n",
              "      <th>Confidence</th>\n",
              "      <td>246.0</td>\n",
              "      <td>0.455855</td>\n",
              "      <td>0.029035</td>\n",
              "      <td>0.382927</td>\n",
              "      <td>0.437153</td>\n",
              "      <td>0.454762</td>\n",
              "      <td>0.471848</td>\n",
              "      <td>0.600000</td>\n",
              "    </tr>\n",
              "    <tr>\n",
              "      <th>Support</th>\n",
              "      <td>246.0</td>\n",
              "      <td>0.181100</td>\n",
              "      <td>0.015762</td>\n",
              "      <td>0.110110</td>\n",
              "      <td>0.173423</td>\n",
              "      <td>0.183183</td>\n",
              "      <td>0.191191</td>\n",
              "      <td>0.211211</td>\n",
              "    </tr>\n",
              "  </tbody>\n",
              "</table>\n",
              "</div>"
            ],
            "text/plain": [
              "            count      mean       std       min       25%       50%       75%  \\\n",
              "Confidence  246.0  0.455855  0.029035  0.382927  0.437153  0.454762  0.471848   \n",
              "Support     246.0  0.181100  0.015762  0.110110  0.173423  0.183183  0.191191   \n",
              "\n",
              "                 max  \n",
              "Confidence  0.600000  \n",
              "Support     0.211211  "
            ]
          },
          "execution_count": 70,
          "metadata": {},
          "output_type": "execute_result"
        }
      ],
      "source": [
        "rules_df.describe().T"
      ]
    },
    {
      "cell_type": "markdown",
      "metadata": {
        "id": "ay04s9kyhT0l"
      },
      "source": [
        "Adjust the confidence threshold from 0.47 to 0.6 to identify a suitable number of strong association rules for analysis."
      ]
    },
    {
      "cell_type": "code",
      "execution_count": 71,
      "metadata": {
        "colab": {
          "base_uri": "https://localhost:8080/",
          "height": 1000
        },
        "id": "EiPdAi3rVKhH",
        "outputId": "c170f2a2-a776-4d76-c0e6-a8a083234807"
      },
      "outputs": [
        {
          "data": {
            "image/png": "[encoded data removed]",
            "text/plain": [
              "<Figure size 1000x600 with 1 Axes>"
            ]
          },
          "metadata": {},
          "output_type": "display_data"
        },
        {
          "data": {
            "text/html": [
              "<div>\n",
              "<style scoped>\n",
              "    .dataframe tbody tr th:only-of-type {\n",
              "        vertical-align: middle;\n",
              "    }\n",
              "\n",
              "    .dataframe tbody tr th {\n",
              "        vertical-align: top;\n",
              "    }\n",
              "\n",
              "    .dataframe thead th {\n",
              "        text-align: right;\n",
              "    }\n",
              "</style>\n",
              "<table border=\"1\" class=\"dataframe\">\n",
              "  <thead>\n",
              "    <tr style=\"text-align: right;\">\n",
              "      <th></th>\n",
              "      <th>Min Confidence</th>\n",
              "      <th>Number of Strong Association Rules</th>\n",
              "    </tr>\n",
              "  </thead>\n",
              "  <tbody>\n",
              "    <tr>\n",
              "      <th>0</th>\n",
              "      <td>0.47</td>\n",
              "      <td>72</td>\n",
              "    </tr>\n",
              "    <tr>\n",
              "      <th>1</th>\n",
              "      <td>0.48</td>\n",
              "      <td>35</td>\n",
              "    </tr>\n",
              "    <tr>\n",
              "      <th>2</th>\n",
              "      <td>0.49</td>\n",
              "      <td>19</td>\n",
              "    </tr>\n",
              "    <tr>\n",
              "      <th>3</th>\n",
              "      <td>0.50</td>\n",
              "      <td>11</td>\n",
              "    </tr>\n",
              "    <tr>\n",
              "      <th>4</th>\n",
              "      <td>0.51</td>\n",
              "      <td>7</td>\n",
              "    </tr>\n",
              "    <tr>\n",
              "      <th>5</th>\n",
              "      <td>0.52</td>\n",
              "      <td>7</td>\n",
              "    </tr>\n",
              "    <tr>\n",
              "      <th>6</th>\n",
              "      <td>0.53</td>\n",
              "      <td>6</td>\n",
              "    </tr>\n",
              "    <tr>\n",
              "      <th>7</th>\n",
              "      <td>0.54</td>\n",
              "      <td>5</td>\n",
              "    </tr>\n",
              "    <tr>\n",
              "      <th>8</th>\n",
              "      <td>0.55</td>\n",
              "      <td>3</td>\n",
              "    </tr>\n",
              "    <tr>\n",
              "      <th>9</th>\n",
              "      <td>0.56</td>\n",
              "      <td>3</td>\n",
              "    </tr>\n",
              "    <tr>\n",
              "      <th>10</th>\n",
              "      <td>0.57</td>\n",
              "      <td>2</td>\n",
              "    </tr>\n",
              "    <tr>\n",
              "      <th>11</th>\n",
              "      <td>0.58</td>\n",
              "      <td>1</td>\n",
              "    </tr>\n",
              "    <tr>\n",
              "      <th>12</th>\n",
              "      <td>0.59</td>\n",
              "      <td>1</td>\n",
              "    </tr>\n",
              "    <tr>\n",
              "      <th>13</th>\n",
              "      <td>0.60</td>\n",
              "      <td>1</td>\n",
              "    </tr>\n",
              "  </tbody>\n",
              "</table>\n",
              "</div>"
            ],
            "text/plain": [
              "    Min Confidence  Number of Strong Association Rules\n",
              "0             0.47                                  72\n",
              "1             0.48                                  35\n",
              "2             0.49                                  19\n",
              "3             0.50                                  11\n",
              "4             0.51                                   7\n",
              "5             0.52                                   7\n",
              "6             0.53                                   6\n",
              "7             0.54                                   5\n",
              "8             0.55                                   3\n",
              "9             0.56                                   3\n",
              "10            0.57                                   2\n",
              "11            0.58                                   1\n",
              "12            0.59                                   1\n",
              "13            0.60                                   1"
            ]
          },
          "execution_count": 71,
          "metadata": {},
          "output_type": "execute_result"
        }
      ],
      "source": [
        "min_conf_range = np.arange(0.47, 0.6001, 0.01)\n",
        "num_rules_list = []\n",
        "\n",
        "for min_conf in min_conf_range:\n",
        "    filtered_rules_df = rules_df[np.isclose(rules_df['Confidence'], min_conf) | (rules_df['Confidence'] > min_conf)]\n",
        "    num_rules_list.append(len(filtered_rules_df))\n",
        "\n",
        "plt.figure(figsize=(10, 6))\n",
        "plt.plot(min_conf_range, num_rules_list, marker='o', linestyle='-')\n",
        "plt.xlabel('Min Confidence')\n",
        "plt.ylabel('Number of Association Rules')\n",
        "plt.title('Number of Strong Association Rules by Min Confidence')\n",
        "plt.grid(True)\n",
        "plt.show()\n",
        "\n",
        "data = {'Min Confidence': min_conf_range, 'Number of Strong Association Rules': num_rules_list}\n",
        "df_rules = pd.DataFrame(data)\n",
        "df_rules"
      ]
    },
    {
      "cell_type": "code",
      "execution_count": 74,
      "metadata": {
        "colab": {
          "base_uri": "https://localhost:8080/",
          "height": 394
        },
        "id": "9BcsZLbeaPUx",
        "outputId": "2ad59be2-9ce6-4b9b-97b2-cc721bec7ef5"
      },
      "outputs": [
        {
          "data": {
            "text/html": [
              "<div>\n",
              "<style scoped>\n",
              "    .dataframe tbody tr th:only-of-type {\n",
              "        vertical-align: middle;\n",
              "    }\n",
              "\n",
              "    .dataframe tbody tr th {\n",
              "        vertical-align: top;\n",
              "    }\n",
              "\n",
              "    .dataframe thead th {\n",
              "        text-align: right;\n",
              "    }\n",
              "</style>\n",
              "<table border=\"1\" class=\"dataframe\">\n",
              "  <thead>\n",
              "    <tr style=\"text-align: right;\">\n",
              "      <th></th>\n",
              "      <th>LHS</th>\n",
              "      <th>RHS</th>\n",
              "      <th>Confidence</th>\n",
              "      <th>Support</th>\n",
              "    </tr>\n",
              "  </thead>\n",
              "  <tbody>\n",
              "    <tr>\n",
              "      <th>0</th>\n",
              "      <td>(Kidney Beans, Ice cream)</td>\n",
              "      <td>(Butter)</td>\n",
              "      <td>0.561224</td>\n",
              "      <td>0.110110</td>\n",
              "    </tr>\n",
              "    <tr>\n",
              "      <th>1</th>\n",
              "      <td>(Butter, Ice cream)</td>\n",
              "      <td>(Kidney Beans)</td>\n",
              "      <td>0.531401</td>\n",
              "      <td>0.110110</td>\n",
              "    </tr>\n",
              "    <tr>\n",
              "      <th>2</th>\n",
              "      <td>(Butter, Kidney Beans)</td>\n",
              "      <td>(Ice cream)</td>\n",
              "      <td>0.544554</td>\n",
              "      <td>0.110110</td>\n",
              "    </tr>\n",
              "    <tr>\n",
              "      <th>3</th>\n",
              "      <td>(Chocolate, Milk)</td>\n",
              "      <td>(Dill)</td>\n",
              "      <td>0.540284</td>\n",
              "      <td>0.114114</td>\n",
              "    </tr>\n",
              "    <tr>\n",
              "      <th>4</th>\n",
              "      <td>(Dill, Milk)</td>\n",
              "      <td>(Chocolate)</td>\n",
              "      <td>0.600000</td>\n",
              "      <td>0.114114</td>\n",
              "    </tr>\n",
              "    <tr>\n",
              "      <th>5</th>\n",
              "      <td>(Dill, Chocolate)</td>\n",
              "      <td>(Milk)</td>\n",
              "      <td>0.572864</td>\n",
              "      <td>0.114114</td>\n",
              "    </tr>\n",
              "    <tr>\n",
              "      <th>6</th>\n",
              "      <td>(Bread)</td>\n",
              "      <td>(Yogurt)</td>\n",
              "      <td>0.502604</td>\n",
              "      <td>0.193193</td>\n",
              "    </tr>\n",
              "    <tr>\n",
              "      <th>7</th>\n",
              "      <td>(Dill)</td>\n",
              "      <td>(Chocolate)</td>\n",
              "      <td>0.500000</td>\n",
              "      <td>0.199199</td>\n",
              "    </tr>\n",
              "    <tr>\n",
              "      <th>8</th>\n",
              "      <td>(Ice cream)</td>\n",
              "      <td>(Butter)</td>\n",
              "      <td>0.504878</td>\n",
              "      <td>0.207207</td>\n",
              "    </tr>\n",
              "    <tr>\n",
              "      <th>9</th>\n",
              "      <td>(Milk)</td>\n",
              "      <td>(Chocolate)</td>\n",
              "      <td>0.520988</td>\n",
              "      <td>0.211211</td>\n",
              "    </tr>\n",
              "    <tr>\n",
              "      <th>10</th>\n",
              "      <td>(Chocolate)</td>\n",
              "      <td>(Milk)</td>\n",
              "      <td>0.501188</td>\n",
              "      <td>0.211211</td>\n",
              "    </tr>\n",
              "  </tbody>\n",
              "</table>\n",
              "</div>"
            ],
            "text/plain": [
              "                          LHS             RHS  Confidence   Support\n",
              "0   (Kidney Beans, Ice cream)        (Butter)    0.561224  0.110110\n",
              "1         (Butter, Ice cream)  (Kidney Beans)    0.531401  0.110110\n",
              "2      (Butter, Kidney Beans)     (Ice cream)    0.544554  0.110110\n",
              "3           (Chocolate, Milk)          (Dill)    0.540284  0.114114\n",
              "4                (Dill, Milk)     (Chocolate)    0.600000  0.114114\n",
              "5           (Dill, Chocolate)          (Milk)    0.572864  0.114114\n",
              "6                     (Bread)        (Yogurt)    0.502604  0.193193\n",
              "7                      (Dill)     (Chocolate)    0.500000  0.199199\n",
              "8                 (Ice cream)        (Butter)    0.504878  0.207207\n",
              "9                      (Milk)     (Chocolate)    0.520988  0.211211\n",
              "10                (Chocolate)          (Milk)    0.501188  0.211211"
            ]
          },
          "execution_count": 74,
          "metadata": {},
          "output_type": "execute_result"
        }
      ],
      "source": [
        "min_conf = 0.50\n",
        "filtered_rules_df = rules_df[rules_df['Confidence'] >= min_conf]\n",
        "filtered_rules_df.reset_index(drop=True, inplace=True)\n",
        "filtered_rules_df"
      ]
    },
    {
      "cell_type": "markdown",
      "metadata": {},
      "source": [
        "The author selected the Min Confidence threshold of 0.50 based on the Elbow method, as the number of strong association rules drops significantly and stabilizes beyond this point."
      ]
    },
    {
      "cell_type": "markdown",
      "metadata": {
        "id": "xPNWPHGjyy0a"
      },
      "source": [
        "# **4. Evaluating Association Rules and identifying Strong Rules using the LIFT metric**"
      ]
    },
    {
      "cell_type": "code",
      "execution_count": 79,
      "metadata": {
        "colab": {
          "base_uri": "https://localhost:8080/",
          "height": 423
        },
        "id": "gk54IGBJfDn-",
        "outputId": "3edf1b6a-8da9-4cfd-d0ae-aabc6b788115"
      },
      "outputs": [
        {
          "data": {
            "text/html": [
              "<div>\n",
              "<style scoped>\n",
              "    .dataframe tbody tr th:only-of-type {\n",
              "        vertical-align: middle;\n",
              "    }\n",
              "\n",
              "    .dataframe tbody tr th {\n",
              "        vertical-align: top;\n",
              "    }\n",
              "\n",
              "    .dataframe thead th {\n",
              "        text-align: right;\n",
              "    }\n",
              "</style>\n",
              "<table border=\"1\" class=\"dataframe\">\n",
              "  <thead>\n",
              "    <tr style=\"text-align: right;\">\n",
              "      <th></th>\n",
              "      <th>Left-hand side</th>\n",
              "      <th>Right-hand side</th>\n",
              "      <th>Confidence</th>\n",
              "      <th>Support</th>\n",
              "      <th>Lift</th>\n",
              "    </tr>\n",
              "  </thead>\n",
              "  <tbody>\n",
              "    <tr>\n",
              "      <th>0</th>\n",
              "      <td>(Kidney Beans, Ice cream)</td>\n",
              "      <td>(Butter)</td>\n",
              "      <td>0.561224</td>\n",
              "      <td>0.110110</td>\n",
              "      <td>1.334913</td>\n",
              "    </tr>\n",
              "    <tr>\n",
              "      <th>1</th>\n",
              "      <td>(Butter, Ice cream)</td>\n",
              "      <td>(Kidney Beans)</td>\n",
              "      <td>0.531401</td>\n",
              "      <td>0.110110</td>\n",
              "      <td>1.301151</td>\n",
              "    </tr>\n",
              "    <tr>\n",
              "      <th>2</th>\n",
              "      <td>(Butter, Kidney Beans)</td>\n",
              "      <td>(Ice cream)</td>\n",
              "      <td>0.544554</td>\n",
              "      <td>0.110110</td>\n",
              "      <td>1.326853</td>\n",
              "    </tr>\n",
              "    <tr>\n",
              "      <th>3</th>\n",
              "      <td>(Chocolate, Milk)</td>\n",
              "      <td>(Dill)</td>\n",
              "      <td>0.540284</td>\n",
              "      <td>0.114114</td>\n",
              "      <td>1.356141</td>\n",
              "    </tr>\n",
              "    <tr>\n",
              "      <th>4</th>\n",
              "      <td>(Dill, Milk)</td>\n",
              "      <td>(Chocolate)</td>\n",
              "      <td>0.600000</td>\n",
              "      <td>0.114114</td>\n",
              "      <td>1.423753</td>\n",
              "    </tr>\n",
              "    <tr>\n",
              "      <th>...</th>\n",
              "      <td>...</td>\n",
              "      <td>...</td>\n",
              "      <td>...</td>\n",
              "      <td>...</td>\n",
              "      <td>...</td>\n",
              "    </tr>\n",
              "    <tr>\n",
              "      <th>241</th>\n",
              "      <td>(Butter)</td>\n",
              "      <td>(Kidney Beans)</td>\n",
              "      <td>0.480952</td>\n",
              "      <td>0.202202</td>\n",
              "      <td>1.177626</td>\n",
              "    </tr>\n",
              "    <tr>\n",
              "      <th>242</th>\n",
              "      <td>(Ice cream)</td>\n",
              "      <td>(Butter)</td>\n",
              "      <td>0.504878</td>\n",
              "      <td>0.207207</td>\n",
              "      <td>1.200889</td>\n",
              "    </tr>\n",
              "    <tr>\n",
              "      <th>243</th>\n",
              "      <td>(Butter)</td>\n",
              "      <td>(Ice cream)</td>\n",
              "      <td>0.492857</td>\n",
              "      <td>0.207207</td>\n",
              "      <td>1.200889</td>\n",
              "    </tr>\n",
              "    <tr>\n",
              "      <th>244</th>\n",
              "      <td>(Milk)</td>\n",
              "      <td>(Chocolate)</td>\n",
              "      <td>0.520988</td>\n",
              "      <td>0.211211</td>\n",
              "      <td>1.236263</td>\n",
              "    </tr>\n",
              "    <tr>\n",
              "      <th>245</th>\n",
              "      <td>(Chocolate)</td>\n",
              "      <td>(Milk)</td>\n",
              "      <td>0.501188</td>\n",
              "      <td>0.211211</td>\n",
              "      <td>1.236263</td>\n",
              "    </tr>\n",
              "  </tbody>\n",
              "</table>\n",
              "<p>246 rows × 5 columns</p>\n",
              "</div>"
            ],
            "text/plain": [
              "                Left-hand side Right-hand side  Confidence   Support      Lift\n",
              "0    (Kidney Beans, Ice cream)        (Butter)    0.561224  0.110110  1.334913\n",
              "1          (Butter, Ice cream)  (Kidney Beans)    0.531401  0.110110  1.301151\n",
              "2       (Butter, Kidney Beans)     (Ice cream)    0.544554  0.110110  1.326853\n",
              "3            (Chocolate, Milk)          (Dill)    0.540284  0.114114  1.356141\n",
              "4                 (Dill, Milk)     (Chocolate)    0.600000  0.114114  1.423753\n",
              "..                         ...             ...         ...       ...       ...\n",
              "241                   (Butter)  (Kidney Beans)    0.480952  0.202202  1.177626\n",
              "242                (Ice cream)        (Butter)    0.504878  0.207207  1.200889\n",
              "243                   (Butter)     (Ice cream)    0.492857  0.207207  1.200889\n",
              "244                     (Milk)     (Chocolate)    0.520988  0.211211  1.236263\n",
              "245                (Chocolate)          (Milk)    0.501188  0.211211  1.236263\n",
              "\n",
              "[246 rows x 5 columns]"
            ]
          },
          "execution_count": 79,
          "metadata": {},
          "output_type": "execute_result"
        }
      ],
      "source": [
        "def calculate_lift(frequent_itemsets, rules, num_of_transactions):\n",
        "    \"\"\"\n",
        "    Calculate the lift metric for all association rules based on the list of frequent_itemsets and rules.\n",
        "\n",
        "    Parameters:\n",
        "        - frequent_itemsets: A list of tuples (frozenset itemset, support).\n",
        "        - rules: A list of tuples (frozenset(lhs), frozenset(rhs), confidence).\n",
        "        - num_of_transactions: Total number of transactions.\n",
        "\n",
        "    Returns:\n",
        "        - rules_with_lift: A list of tuples (frozenset(lhs), frozenset(rhs), confidence, support, lift).\n",
        "    \"\"\"\n",
        "    # Convert frequent_itemsets to a dictionary for easy access to support values\n",
        "    if frequent_itemsets[0][1] < 1:  # If frequent_itemsets contains (itemset, support)\n",
        "        support_dict = {itemset: support for itemset, support in frequent_itemsets}\n",
        "    else:  # If frequent_itemsets contains (itemset, frequency)\n",
        "        support_dict = {itemset: freq / num_of_transactions for itemset, freq in frequent_itemsets}\n",
        "\n",
        "    rules_with_lift = []\n",
        "    for lhs, rhs, confidence, support in rules:\n",
        "        # Calculate lift = confidence / support(rhs)\n",
        "        rhs_support = support_dict.get(rhs, 0)\n",
        "        if rhs_support > 0:  # Avoid division by zero\n",
        "            lift = confidence / rhs_support\n",
        "            rules_with_lift.append((lhs, rhs, confidence, support, lift))\n",
        "\n",
        "    return rules_with_lift\n",
        "\n",
        "rules_with_lift = calculate_lift(frequent_itemsets_ec, rules, len(transactions))\n",
        "\n",
        "rules_with_lift_df = pd.DataFrame(rules_with_lift, columns=['Left-hand side', 'Right-hand side', 'Confidence', 'Support', 'Lift'])\n",
        "rules_with_lift_df"
      ]
    },
    {
      "cell_type": "code",
      "execution_count": 80,
      "metadata": {
        "colab": {
          "base_uri": "https://localhost:8080/",
          "height": 423
        },
        "id": "u_Q1VeeqVVP0",
        "outputId": "117ecda5-7920-46c6-bee9-e2b37cf59e65"
      },
      "outputs": [
        {
          "data": {
            "text/html": [
              "<div>\n",
              "<style scoped>\n",
              "    .dataframe tbody tr th:only-of-type {\n",
              "        vertical-align: middle;\n",
              "    }\n",
              "\n",
              "    .dataframe tbody tr th {\n",
              "        vertical-align: top;\n",
              "    }\n",
              "\n",
              "    .dataframe thead th {\n",
              "        text-align: right;\n",
              "    }\n",
              "</style>\n",
              "<table border=\"1\" class=\"dataframe\">\n",
              "  <thead>\n",
              "    <tr style=\"text-align: right;\">\n",
              "      <th></th>\n",
              "      <th>Left-hand side</th>\n",
              "      <th>Right-hand side</th>\n",
              "      <th>Confidence</th>\n",
              "      <th>Support</th>\n",
              "      <th>Lift</th>\n",
              "    </tr>\n",
              "  </thead>\n",
              "  <tbody>\n",
              "    <tr>\n",
              "      <th>0</th>\n",
              "      <td>(Kidney Beans, Ice cream)</td>\n",
              "      <td>(Butter)</td>\n",
              "      <td>0.561224</td>\n",
              "      <td>0.110110</td>\n",
              "      <td>1.334913</td>\n",
              "    </tr>\n",
              "    <tr>\n",
              "      <th>1</th>\n",
              "      <td>(Butter, Ice cream)</td>\n",
              "      <td>(Kidney Beans)</td>\n",
              "      <td>0.531401</td>\n",
              "      <td>0.110110</td>\n",
              "      <td>1.301151</td>\n",
              "    </tr>\n",
              "    <tr>\n",
              "      <th>2</th>\n",
              "      <td>(Butter, Kidney Beans)</td>\n",
              "      <td>(Ice cream)</td>\n",
              "      <td>0.544554</td>\n",
              "      <td>0.110110</td>\n",
              "      <td>1.326853</td>\n",
              "    </tr>\n",
              "    <tr>\n",
              "      <th>3</th>\n",
              "      <td>(Chocolate, Milk)</td>\n",
              "      <td>(Dill)</td>\n",
              "      <td>0.540284</td>\n",
              "      <td>0.114114</td>\n",
              "      <td>1.356141</td>\n",
              "    </tr>\n",
              "    <tr>\n",
              "      <th>4</th>\n",
              "      <td>(Dill, Milk)</td>\n",
              "      <td>(Chocolate)</td>\n",
              "      <td>0.600000</td>\n",
              "      <td>0.114114</td>\n",
              "      <td>1.423753</td>\n",
              "    </tr>\n",
              "    <tr>\n",
              "      <th>...</th>\n",
              "      <td>...</td>\n",
              "      <td>...</td>\n",
              "      <td>...</td>\n",
              "      <td>...</td>\n",
              "      <td>...</td>\n",
              "    </tr>\n",
              "    <tr>\n",
              "      <th>241</th>\n",
              "      <td>(Butter)</td>\n",
              "      <td>(Kidney Beans)</td>\n",
              "      <td>0.480952</td>\n",
              "      <td>0.202202</td>\n",
              "      <td>1.177626</td>\n",
              "    </tr>\n",
              "    <tr>\n",
              "      <th>242</th>\n",
              "      <td>(Ice cream)</td>\n",
              "      <td>(Butter)</td>\n",
              "      <td>0.504878</td>\n",
              "      <td>0.207207</td>\n",
              "      <td>1.200889</td>\n",
              "    </tr>\n",
              "    <tr>\n",
              "      <th>243</th>\n",
              "      <td>(Butter)</td>\n",
              "      <td>(Ice cream)</td>\n",
              "      <td>0.492857</td>\n",
              "      <td>0.207207</td>\n",
              "      <td>1.200889</td>\n",
              "    </tr>\n",
              "    <tr>\n",
              "      <th>244</th>\n",
              "      <td>(Milk)</td>\n",
              "      <td>(Chocolate)</td>\n",
              "      <td>0.520988</td>\n",
              "      <td>0.211211</td>\n",
              "      <td>1.236263</td>\n",
              "    </tr>\n",
              "    <tr>\n",
              "      <th>245</th>\n",
              "      <td>(Chocolate)</td>\n",
              "      <td>(Milk)</td>\n",
              "      <td>0.501188</td>\n",
              "      <td>0.211211</td>\n",
              "      <td>1.236263</td>\n",
              "    </tr>\n",
              "  </tbody>\n",
              "</table>\n",
              "<p>244 rows × 5 columns</p>\n",
              "</div>"
            ],
            "text/plain": [
              "                Left-hand side Right-hand side  Confidence   Support      Lift\n",
              "0    (Kidney Beans, Ice cream)        (Butter)    0.561224  0.110110  1.334913\n",
              "1          (Butter, Ice cream)  (Kidney Beans)    0.531401  0.110110  1.301151\n",
              "2       (Butter, Kidney Beans)     (Ice cream)    0.544554  0.110110  1.326853\n",
              "3            (Chocolate, Milk)          (Dill)    0.540284  0.114114  1.356141\n",
              "4                 (Dill, Milk)     (Chocolate)    0.600000  0.114114  1.423753\n",
              "..                         ...             ...         ...       ...       ...\n",
              "241                   (Butter)  (Kidney Beans)    0.480952  0.202202  1.177626\n",
              "242                (Ice cream)        (Butter)    0.504878  0.207207  1.200889\n",
              "243                   (Butter)     (Ice cream)    0.492857  0.207207  1.200889\n",
              "244                     (Milk)     (Chocolate)    0.520988  0.211211  1.236263\n",
              "245                (Chocolate)          (Milk)    0.501188  0.211211  1.236263\n",
              "\n",
              "[244 rows x 5 columns]"
            ]
          },
          "execution_count": 80,
          "metadata": {},
          "output_type": "execute_result"
        }
      ],
      "source": [
        "# Filter out rules with LIFT > 1\n",
        "filtered_rules_lift = rules_with_lift_df[rules_with_lift_df['Lift'] > 1]\n",
        "filtered_rules_lift"
      ]
    },
    {
      "cell_type": "markdown",
      "metadata": {
        "id": "kUiEh9Ohqc7B"
      },
      "source": [
        "There are 244/246 association rules with LIFT > 1."
      ]
    },
    {
      "cell_type": "code",
      "execution_count": 82,
      "metadata": {
        "colab": {
          "base_uri": "https://localhost:8080/",
          "height": 394
        },
        "id": "OlVEbRd1rRtX",
        "outputId": "10735387-dd11-46ff-cbfc-5566fcf97028"
      },
      "outputs": [
        {
          "data": {
            "text/html": [
              "<div>\n",
              "<style scoped>\n",
              "    .dataframe tbody tr th:only-of-type {\n",
              "        vertical-align: middle;\n",
              "    }\n",
              "\n",
              "    .dataframe tbody tr th {\n",
              "        vertical-align: top;\n",
              "    }\n",
              "\n",
              "    .dataframe thead th {\n",
              "        text-align: right;\n",
              "    }\n",
              "</style>\n",
              "<table border=\"1\" class=\"dataframe\">\n",
              "  <thead>\n",
              "    <tr style=\"text-align: right;\">\n",
              "      <th></th>\n",
              "      <th>Left-hand side</th>\n",
              "      <th>Right-hand side</th>\n",
              "      <th>Confidence</th>\n",
              "      <th>Support</th>\n",
              "      <th>Lift</th>\n",
              "    </tr>\n",
              "  </thead>\n",
              "  <tbody>\n",
              "    <tr>\n",
              "      <th>0</th>\n",
              "      <td>(Kidney Beans, Ice cream)</td>\n",
              "      <td>(Butter)</td>\n",
              "      <td>0.561224</td>\n",
              "      <td>0.110110</td>\n",
              "      <td>1.334913</td>\n",
              "    </tr>\n",
              "    <tr>\n",
              "      <th>1</th>\n",
              "      <td>(Butter, Ice cream)</td>\n",
              "      <td>(Kidney Beans)</td>\n",
              "      <td>0.531401</td>\n",
              "      <td>0.110110</td>\n",
              "      <td>1.301151</td>\n",
              "    </tr>\n",
              "    <tr>\n",
              "      <th>2</th>\n",
              "      <td>(Butter, Kidney Beans)</td>\n",
              "      <td>(Ice cream)</td>\n",
              "      <td>0.544554</td>\n",
              "      <td>0.110110</td>\n",
              "      <td>1.326853</td>\n",
              "    </tr>\n",
              "    <tr>\n",
              "      <th>3</th>\n",
              "      <td>(Chocolate, Milk)</td>\n",
              "      <td>(Dill)</td>\n",
              "      <td>0.540284</td>\n",
              "      <td>0.114114</td>\n",
              "      <td>1.356141</td>\n",
              "    </tr>\n",
              "    <tr>\n",
              "      <th>4</th>\n",
              "      <td>(Dill, Milk)</td>\n",
              "      <td>(Chocolate)</td>\n",
              "      <td>0.600000</td>\n",
              "      <td>0.114114</td>\n",
              "      <td>1.423753</td>\n",
              "    </tr>\n",
              "    <tr>\n",
              "      <th>5</th>\n",
              "      <td>(Dill, Chocolate)</td>\n",
              "      <td>(Milk)</td>\n",
              "      <td>0.572864</td>\n",
              "      <td>0.114114</td>\n",
              "      <td>1.413065</td>\n",
              "    </tr>\n",
              "    <tr>\n",
              "      <th>6</th>\n",
              "      <td>(Bread)</td>\n",
              "      <td>(Yogurt)</td>\n",
              "      <td>0.502604</td>\n",
              "      <td>0.193193</td>\n",
              "      <td>1.195480</td>\n",
              "    </tr>\n",
              "    <tr>\n",
              "      <th>7</th>\n",
              "      <td>(Dill)</td>\n",
              "      <td>(Chocolate)</td>\n",
              "      <td>0.500000</td>\n",
              "      <td>0.199199</td>\n",
              "      <td>1.186461</td>\n",
              "    </tr>\n",
              "    <tr>\n",
              "      <th>8</th>\n",
              "      <td>(Ice cream)</td>\n",
              "      <td>(Butter)</td>\n",
              "      <td>0.504878</td>\n",
              "      <td>0.207207</td>\n",
              "      <td>1.200889</td>\n",
              "    </tr>\n",
              "    <tr>\n",
              "      <th>9</th>\n",
              "      <td>(Milk)</td>\n",
              "      <td>(Chocolate)</td>\n",
              "      <td>0.520988</td>\n",
              "      <td>0.211211</td>\n",
              "      <td>1.236263</td>\n",
              "    </tr>\n",
              "    <tr>\n",
              "      <th>10</th>\n",
              "      <td>(Chocolate)</td>\n",
              "      <td>(Milk)</td>\n",
              "      <td>0.501188</td>\n",
              "      <td>0.211211</td>\n",
              "      <td>1.236263</td>\n",
              "    </tr>\n",
              "  </tbody>\n",
              "</table>\n",
              "</div>"
            ],
            "text/plain": [
              "               Left-hand side Right-hand side  Confidence   Support      Lift\n",
              "0   (Kidney Beans, Ice cream)        (Butter)    0.561224  0.110110  1.334913\n",
              "1         (Butter, Ice cream)  (Kidney Beans)    0.531401  0.110110  1.301151\n",
              "2      (Butter, Kidney Beans)     (Ice cream)    0.544554  0.110110  1.326853\n",
              "3           (Chocolate, Milk)          (Dill)    0.540284  0.114114  1.356141\n",
              "4                (Dill, Milk)     (Chocolate)    0.600000  0.114114  1.423753\n",
              "5           (Dill, Chocolate)          (Milk)    0.572864  0.114114  1.413065\n",
              "6                     (Bread)        (Yogurt)    0.502604  0.193193  1.195480\n",
              "7                      (Dill)     (Chocolate)    0.500000  0.199199  1.186461\n",
              "8                 (Ice cream)        (Butter)    0.504878  0.207207  1.200889\n",
              "9                      (Milk)     (Chocolate)    0.520988  0.211211  1.236263\n",
              "10                (Chocolate)          (Milk)    0.501188  0.211211  1.236263"
            ]
          },
          "execution_count": 82,
          "metadata": {},
          "output_type": "execute_result"
        }
      ],
      "source": [
        "# Filter out rules with LIFT > 1 and confidence >= min_conf\n",
        "filtered_rules_lift_1 = rules_with_lift_df[(rules_with_lift_df['Lift'] > 1) & (rules_with_lift_df['Confidence'] >= min_conf)]\n",
        "filtered_rules_lift_1.reset_index(drop=True, inplace=True)\n",
        "filtered_rules_lift_1"
      ]
    },
    {
      "cell_type": "markdown",
      "metadata": {
        "id": "zkiHAeifrlHV"
      },
      "source": [
        "The 11 strong association rules found (with min_sup = 0.11 and min_conf = 0.5) all have a LIFT greater than 1."
      ]
    }
  ],
  "metadata": {
    "colab": {
      "provenance": []
    },
    "kernelspec": {
      "display_name": "Python 3",
      "name": "python3"
    },
    "language_info": {
      "codemirror_mode": {
        "name": "ipython",
        "version": 3
      },
      "file_extension": ".py",
      "mimetype": "text/x-python",
      "name": "python",
      "nbconvert_exporter": "python",
      "pygments_lexer": "ipython3",
      "version": "3.12.9"
    }
  },
  "nbformat": 4,
  "nbformat_minor": 0
}
